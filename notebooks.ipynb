<HEAD/>
{
 "cells": [
  {
   "cell_type": "markdown",
   "metadata": {},
   "source": [
    "# Monday Night Wars\n",
    "\n",
    "Se conoce como Monday Night Wars (en español como Guerras de los lunes por la noche) al período de la lucha libre profesional televisada en Estados Unidos entre el 4 de septiembre de 1995 y el 26 de marzo de 2001. Durante este tiempo, Monday Night Raw, programa de la World Wrestling Federation (WWF, actual WWE) se enfrentó cara a cara con Monday Nitro, programa de la World Championship Wrestling (WCW) en una batalla por los índices de audiencia de Nielsen cada semana.\n",
    "\n",
    "![](https://www.kayfabenews.com/wp-content/uploads/2013/06/monday-night-war.jpg)\n",
    "\n",
    "## Ratings de la Guerra\n",
    "\n",
    "![](https://i.redd.it/d0e2hic46cn51.png)\n",
    "\n",
    "El conflicto comenzó el 4 de septiembre de 1995, cuando Monday Nitro fue estrenado. Con Nitro como su programa emblemático, la WCW dominó los índices de audiencia durante gran parte de mediados de los 90, ya que los recursos financieros de Ted Turner permitieron a la compañía adquirir los servicios de numerosos luchadores importantes de la WWF, como Hulk Hogan y Randy Savage. La compañía también atrajo la atención de los fanáticos ocasionales al filmar eventos en lugares turísticos populares como Disney's Hollywood Studios, y se acercó a los fanáticos de la lucha libre mexicanos y japoneses a través de su división de peso crucero, que contó con luchadores de diversos orígenes étnicos y raciales, presentando estilos de lucha libre populares en América Latina y Asia. Bajo los auspicios de Eric Bischoff, la WCW introdujo una nueva y compleja meta-historia que involucraba la deserción de múltiples luchadores hacia una organización rival llamada New World Order (nWo). El controvertido tratamiento de Bret Hart por parte de la WWE, en un incidente conocido como la Traición de Montreal (ocurrido el 9 de noviembre de 1997), precipitó inmediatamente la partida de Hart de la WWF a la WCW, molestando a un gran segmento de fanáticos de la WWF al mismo tiempo que la WCW empleó prácticamente a todas las estrellas establecidas de la lucha libre en competición.\n",
    "\n",
    "Con Nitro como su programa emblemático, la WCW dominó los índices de audiencia durante gran parte de mediados de los 90, ya que los recursos financieros de Ted Turner permitieron a la compañía adquirir los servicios de numerosos luchadores importantes de la WWF, como Hulk Hogan y Randy Savage. La compañía también atrajo la atención de los fanáticos ocasionales al filmar eventos en lugares turísticos populares como Disney's Hollywood Studios, y se acercó a los fanáticos de la lucha libre mexicanos y japoneses a través de su división de peso crucero, que contó con luchadores de diversos orígenes étnicos y raciales, presentando estilos de lucha libre populares en América Latina y Asia. Bajo los auspicios de Eric Bischoff, la WCW introdujo una nueva y compleja meta-historia que involucraba la deserción de múltiples luchadores hacia una organización rival llamada New World Order (nWo). El controvertido tratamiento de Bret Hart por parte de la WWE, en un incidente conocido como la Traición de Montreal (ocurrido el 9 de noviembre de 1997), precipitó inmediatamente la partida de Hart de la WWF a la WCW, molestando a un gran segmento de fanáticos de la WWF al mismo tiempo que la WCW empleó prácticamente a todas las estrellas establecidas de la lucha libre en competición.\n",
    "\n",
    "A fines de la década de 1990, los índices de audiencia de la WCW comenzaron a sufrir a medida que los fanáticos se cansaban de la historia de nWo, que muchos espectadores percibían como que se les había permitido continuar por mucho tiempo.\n",
    "\n",
    "Los fanáticos también respondieron negativamente a varios trucos destinados a revitalizar el interés en la WCW, incluida la introducción del actor David Arquette como el nuevo campeón de la compañía. La compañía pudo revitalizarse brevemente después de la presentación de Bill Goldberg, quien fue presentado como una fuerza imbatible que ganaba combates en cuestión de minutos o incluso segundos. Goldberg se convirtió rápidamente en estrella dentro de la organización y se convirtió en una estrella similar a los luchadores de la WWF, con apariciones en comerciales y videos musicales. Sin embargo, una controvertida decisión tras bambalinas de poner fin a la racha ganadora de Goldberg, seguida rápidamente por un combate anticlimático entre Kevin Nash y Hollywood Hogan, conocido como el Fingerpoke of Doom (traducible al español como Golpe de dedo de la perdición) y ocurrido el 4 de enero de 1999, acabó con la credibilidad de la compañía ante los ojos de muchos de sus fanáticos, y la compañía nunca pudo recrear el nivel inicial de popularidad que había disfrutado a mediados de la década.\n",
    "\n",
    "Simultáneamente, la compañía experimentó problemas financieros debido a la cantidad de dinero que le había prometido a los luchadores en sus contratos durante un frenesí de contrataciones a principios de los años 90. En última instancia, la compañía no pudo sostenerse mientras le pagaba a los luchadores sus salarios contratados, y la WCW salió a la venta. Las guerras terminaron con la venta de los activos de la WCW por parte de su empresa matriz, AOL Time Warner, a la WWF, la cual ocurrió el 23 de marzo de 2001.\n",
    "\n",
    "\n",
    "\n",
    "## Legado\n",
    "\n",
    "En retrospectiva, los analistas de lucha libre han llegado a ver la era de Monday Night Wars como una edad de oro de la lucha libre, con la disputa entre las 2 compañías haciendo que las mismas presentaran su producto de mejor calidad, tanto en términos de creatividad como en el desempeño de sus luchadores. Muchos han llegado a considerar el final de las guerras, y, en particular, la historia posterior de la WWE sobre la adquisición de la WCW, como un marcado descenso en la calidad de la programación de lucha libre moderna. \n"
   ]
  }
]
}
